{
 "cells": [
  {
   "cell_type": "markdown",
   "metadata": {},
   "source": [
    "# Birds vs Machines\n",
    "\n",
    "### https://www.kaggle.com/datasets/faa/wildlife-strikes"
   ]
  },
  {
   "cell_type": "code",
   "execution_count": null,
   "metadata": {},
   "outputs": [],
   "source": [
    "import matplotlib.pyplot as plt\n",
    "import pandas as pd"
   ]
  },
  {
   "cell_type": "code",
   "execution_count": null,
   "metadata": {},
   "outputs": [],
   "source": [
    "BIRD_CSV = \"./csv/aircraft_wildlife.csv\"\n",
    "birds_df = pd.read_csv(BIRD_CSV)\n",
    "birds_df.head()"
   ]
  },
  {
   "cell_type": "code",
   "execution_count": null,
   "metadata": {},
   "outputs": [],
   "source": [
    "birds_df[[\"Incident Year\", \"State\", \"Species Name\", \"Operator\", \"Aircraft Damage\"]].head()"
   ]
  },
  {
   "cell_type": "markdown",
   "metadata": {},
   "source": [
    "### Accidents per Years"
   ]
  },
  {
   "cell_type": "code",
   "execution_count": null,
   "metadata": {},
   "outputs": [],
   "source": [
    "year_accident = birds_df[\"Incident Year\"].value_counts().sort_index()\n",
    "years = year_accident.index.values\n",
    "year_accident_counts = year_accident.values\n",
    "\n",
    "plt.figure(figsize=(10, 7))\n",
    "plt.bar(years, year_accident_counts)\n",
    "plt.xticks(fontsize=8, rotation=45, ha=\"right\")\n",
    "plt.title(\"Accidents per Year\")\n",
    "plt.show()"
   ]
  },
  {
   "cell_type": "markdown",
   "metadata": {},
   "source": [
    "### Accidents per State"
   ]
  },
  {
   "cell_type": "code",
   "execution_count": null,
   "metadata": {},
   "outputs": [],
   "source": [
    "state_accident = birds_df[\"State\"].value_counts().sort_values(ascending=False)\n",
    "states = state_accident.index.values\n",
    "state_accident_counts = state_accident.values\n",
    "\n",
    "num_states = 24\n",
    "plt.figure(figsize=(10, 6))\n",
    "plt.bar(states[:num_states], state_accident_counts[:num_states])\n",
    "plt.xticks(fontsize=10, rotation=90, ha=\"center\")\n",
    "plt.title(\"Accidents per State\")\n",
    "plt.show()"
   ]
  },
  {
   "cell_type": "markdown",
   "metadata": {},
   "source": [
    "### Bird Accidents"
   ]
  },
  {
   "cell_type": "code",
   "execution_count": null,
   "metadata": {},
   "outputs": [],
   "source": [
    "_bird_accident = birds_df[\"Species Name\"].value_counts()\n",
    "_bird_accident.index = _bird_accident.index.astype(\"str\")\n",
    "\n",
    "bird_accident = _bird_accident[~_bird_accident.index.str.contains(\"UNKNOWN\")].sort_values(ascending=False)\n",
    "birds = bird_accident.index.values\n",
    "bird_accident_counts = bird_accident.values\n",
    "\n",
    "num_birds = 32\n",
    "plt.figure(figsize=(10, 5))\n",
    "plt.bar(birds[:num_birds], bird_accident_counts[:num_birds])\n",
    "plt.xticks(fontsize=8, rotation=45, ha=\"right\")\n",
    "plt.title(\"Most Accidental Birds\")\n",
    "plt.show()"
   ]
  },
  {
   "cell_type": "markdown",
   "metadata": {},
   "source": [
    "### Bird Damage"
   ]
  },
  {
   "cell_type": "code",
   "execution_count": null,
   "metadata": {},
   "outputs": [],
   "source": [
    "_bird_damage = birds_df[birds_df[\"Aircraft Damage\"] == 1][\"Species Name\"].value_counts()\n",
    "_bird_damage.index = _bird_damage.index.astype(\"str\")\n",
    "\n",
    "bird_damage = _bird_damage[~_bird_damage.index.str.contains(\"UNKNOWN\")].sort_values(ascending=False)\n",
    "birds = bird_damage.index.values\n",
    "bird_damage_count = bird_damage.values\n",
    "\n",
    "num_birds = 32\n",
    "plt.figure(figsize=(10, 5))\n",
    "plt.bar(birds[:num_birds], bird_damage_count[:num_birds])\n",
    "plt.xticks(fontsize=8, rotation=45, ha=\"right\")\n",
    "plt.title(\"Most Damaging Birds\")\n",
    "plt.show()"
   ]
  },
  {
   "cell_type": "markdown",
   "metadata": {},
   "source": [
    "### Most Injuring Birds"
   ]
  },
  {
   "cell_type": "code",
   "execution_count": null,
   "metadata": {},
   "outputs": [],
   "source": [
    "_bird_injuries = birds_df[birds_df[\"Injuries\"] != ''][\"Species Name\"].value_counts()\n",
    "_bird_injuries.index = _bird_injuries.index.astype(\"str\")\n",
    "\n",
    "bird_injuries = _bird_injuries[~_bird_injuries.index.str.contains(\"UNKNOWN\")].sort_values(ascending=False)\n",
    "birds = bird_injuries.index.values\n",
    "bird_injuries_count = bird_injuries.values\n",
    "\n",
    "num_birds = 32\n",
    "plt.figure(figsize=(10, 5))\n",
    "plt.bar(birds[:num_birds], bird_injuries_count[:num_birds])\n",
    "plt.xticks(fontsize=8, rotation=45, ha=\"right\")\n",
    "plt.title(\"Most Injuring Birds\")\n",
    "plt.show()"
   ]
  },
  {
   "cell_type": "markdown",
   "metadata": {},
   "source": [
    "### Most Fatal Birds"
   ]
  },
  {
   "cell_type": "code",
   "execution_count": null,
   "metadata": {},
   "outputs": [],
   "source": [
    "_bird_fatalities = birds_df[birds_df[\"Fatalities\"] > 0][\"Species Name\"].value_counts()\n",
    "_bird_fatalities.index = _bird_fatalities.index.astype(\"str\")\n",
    "\n",
    "bird_fatalities = _bird_fatalities[~_bird_fatalities.index.str.contains(\"UNKNOWN\")].sort_values(ascending=False)\n",
    "birds = bird_fatalities.index.values\n",
    "bird_fatalities_count = bird_fatalities.values\n",
    "\n",
    "num_birds = 32\n",
    "plt.figure(figsize=(10, 5))\n",
    "plt.bar(birds[:num_birds], bird_fatalities_count[:num_birds])\n",
    "plt.xticks(fontsize=8, rotation=45, ha=\"right\")\n",
    "plt.title(\"Most Fatal Birds\")\n",
    "plt.show()"
   ]
  },
  {
   "cell_type": "markdown",
   "metadata": {},
   "source": [
    "### Accidents per Airline"
   ]
  },
  {
   "cell_type": "code",
   "execution_count": null,
   "metadata": {},
   "outputs": [],
   "source": [
    "airline_accident = birds_df[\"Operator\"].value_counts().sort_values(ascending=False)[2:]\n",
    "airlines = airline_accident.index.values\n",
    "airline_accident_count = airline_accident.values\n",
    "\n",
    "num_airlines = 16\n",
    "plt.figure(figsize=(10, 6))\n",
    "plt.bar(airlines[:num_airlines], airline_accident_count[:num_airlines])\n",
    "plt.xticks(fontsize=8, rotation=45, ha=\"right\")\n",
    "plt.title(\"Most Accidental Airlines\")\n",
    "plt.show()"
   ]
  },
  {
   "cell_type": "markdown",
   "metadata": {},
   "source": [
    "### Accidents per Flight Phase"
   ]
  },
  {
   "cell_type": "code",
   "execution_count": null,
   "metadata": {},
   "outputs": [],
   "source": [
    "phase_accident = birds_df[\"Flight Phase\"].value_counts().sort_values(ascending=False)\n",
    "phases = phase_accident.index.values\n",
    "phase_accident_count = phase_accident.values\n",
    "\n",
    "plt.figure(figsize=(10, 6))\n",
    "plt.bar(phases, phase_accident_count)\n",
    "plt.xticks(fontsize=8, rotation=45, ha=\"right\")\n",
    "plt.title(\"Accidents per Flight Phase\")\n",
    "plt.show()"
   ]
  }
 ],
 "metadata": {
  "kernelspec": {
   "display_name": "9103",
   "language": "python",
   "name": "python3"
  },
  "language_info": {
   "codemirror_mode": {
    "name": "ipython",
    "version": 3
   },
   "file_extension": ".py",
   "mimetype": "text/x-python",
   "name": "python",
   "nbconvert_exporter": "python",
   "pygments_lexer": "ipython3",
   "version": "3.10.13"
  }
 },
 "nbformat": 4,
 "nbformat_minor": 2
}
