{
 "cells": [
  {
   "cell_type": "code",
   "execution_count": null,
   "metadata": {},
   "outputs": [],
   "source": [
    "import json\n",
    "import matplotlib.pyplot as plt"
   ]
  },
  {
   "cell_type": "code",
   "execution_count": null,
   "metadata": {},
   "outputs": [],
   "source": [
    "BIRD_FILE = \"./bird_accidents.json\"\n",
    "\n",
    "with open(BIRD_FILE) as in_file:\n",
    "  bjson = json.load(in_file)"
   ]
  },
  {
   "cell_type": "code",
   "execution_count": null,
   "metadata": {},
   "outputs": [],
   "source": [
    "bjson[0].keys(), bjson[0][\"Flight Impact\"]"
   ]
  },
  {
   "cell_type": "code",
   "execution_count": null,
   "metadata": {},
   "outputs": [],
   "source": [
    "def get_list_from_key(obj_list, key):\n",
    "  return [i[key] for i in obj_list]\n",
    "\n",
    "def get_count_obj_from_list(mlist):\n",
    "  counts = {}\n",
    "  for i in mlist:\n",
    "    if i not in counts:\n",
    "      counts[i] = 0\n",
    "    counts[i] += 1\n",
    "  return [{\"label\":k, \"count\":v} for k,v in counts.items()]\n",
    "\n",
    "def get_counts(obj_list, key, sort_key=\"count\", reverse=True):\n",
    "  return sorted(\n",
    "    get_count_obj_from_list(get_list_from_key(obj_list, key)),\n",
    "    key=lambda x: x[sort_key], reverse=reverse\n",
    "  )"
   ]
  },
  {
   "cell_type": "code",
   "execution_count": null,
   "metadata": {},
   "outputs": [],
   "source": [
    "year_count = get_counts(bjson, \"Incident Year\", sort_key=\"label\", reverse=False)\n",
    "\n",
    "species = [i[\"Species Name\"] for i in bjson if \"UNKNOWN\" not in i[\"Species Name\"]]\n",
    "species_count = sorted(get_count_obj_from_list(species), key=lambda x: x[\"count\"], reverse=True)\n",
    "\n",
    "state_count = get_counts(bjson, \"State\")\n",
    "del state_count[0]\n",
    "\n",
    "id_count = get_counts(bjson, \"Airport ID\")\n",
    "\n",
    "operator_count = get_counts(bjson, \"Operator\")\n",
    "del operator_count[0]\n",
    "\n",
    "phase_count = get_counts(bjson, \"Flight Phase\")\n",
    "del phase_count[0]\n",
    "\n",
    "damage_count = get_counts(bjson, \"Aircraft Damage\")\n",
    "\n",
    "species_damage = [i[\"Species Name\"] for i in bjson if \"UNKNOWN\" not in i[\"Species Name\"] and i[\"Aircraft Damage\"] == \"1\"]\n",
    "species_damage_count = sorted(get_count_obj_from_list(species_damage), key=lambda x: x[\"count\"], reverse=True)"
   ]
  },
  {
   "cell_type": "code",
   "execution_count": null,
   "metadata": {},
   "outputs": [],
   "source": [
    "plt.figure(figsize=(10, 7))\n",
    "plt.bar(get_list_from_key(year_count, \"label\"), get_list_from_key(year_count, \"count\"))\n",
    "plt.xticks(fontsize=8, rotation=45, ha=\"right\")\n",
    "plt.show()\n",
    "\n",
    "num_birds = 32\n",
    "plt.figure(figsize=(10, 5))\n",
    "plt.bar(get_list_from_key(species_count, \"label\")[:num_birds], get_list_from_key(species_count, \"count\")[:num_birds])\n",
    "plt.xticks(fontsize=8, rotation=45, ha=\"right\")\n",
    "plt.show()\n",
    "\n",
    "num_birds = 32\n",
    "plt.figure(figsize=(10, 5))\n",
    "plt.bar(get_list_from_key(species_damage_count, \"label\")[:num_birds], get_list_from_key(species_damage_count, \"count\")[:num_birds])\n",
    "plt.xticks(fontsize=8, rotation=45, ha=\"right\")\n",
    "plt.show()\n",
    "\n",
    "plt.figure(figsize=(10, 6))\n",
    "plt.bar(get_list_from_key(state_count, \"label\"), get_list_from_key(state_count, \"count\"))\n",
    "plt.xticks(fontsize=10, rotation=90, ha=\"center\")\n",
    "plt.show()\n",
    "\n",
    "num_points = 32\n",
    "plt.figure(figsize=(10, 6))\n",
    "plt.bar(get_list_from_key(operator_count, \"label\")[:num_points], get_list_from_key(operator_count, \"count\")[:num_points])\n",
    "plt.xticks(fontsize=8, rotation=45, ha=\"right\")\n",
    "plt.show()\n",
    "\n",
    "num_points = 32\n",
    "plt.figure(figsize=(10, 6))\n",
    "plt.bar(get_list_from_key(phase_count, \"label\")[:num_points], get_list_from_key(phase_count, \"count\")[:num_points])\n",
    "plt.xticks(fontsize=8, rotation=45, ha=\"right\")\n",
    "plt.show()\n"
   ]
  }
 ],
 "metadata": {
  "kernelspec": {
   "display_name": "9103",
   "language": "python",
   "name": "python3"
  },
  "language_info": {
   "codemirror_mode": {
    "name": "ipython",
    "version": 3
   },
   "file_extension": ".py",
   "mimetype": "text/x-python",
   "name": "python",
   "nbconvert_exporter": "python",
   "pygments_lexer": "ipython3",
   "version": "3.10.13"
  }
 },
 "nbformat": 4,
 "nbformat_minor": 2
}
